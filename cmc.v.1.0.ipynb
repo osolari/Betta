{
 "cells": [
  {
   "cell_type": "code",
   "execution_count": 3,
   "metadata": {},
   "outputs": [],
   "source": [
    "import numpy as np\n",
    "import statsmodels.api as sm\n",
    "import statsmodels.formula.api as smf\n",
    "import matplotlib.pyplot as plt\n",
    "from relativeEfficiencyLib import *\n",
    "import matplotlib.colors as mcolors\n",
    "import matplotlib.cm as cm\n",
    "import pandas as pd\n",
    "import time\n",
    "%matplotlib inline"
   ]
  },
  {
   "cell_type": "code",
   "execution_count": 2,
   "metadata": {
    "collapsed": true
   },
   "outputs": [],
   "source": [
    "def createMinConstAlpha():\n",
    "    \n",
    "    Alpha = []\n",
    "    for e in np.linspace(1, 5, 11):\n",
    "        \n",
    "        tmp = np.linspace( e, e + 1, 10, endpoint=False)\n",
    "        tmp2 = np.concatenate([[1],np.linspace( e, e + 1, 10, endpoint=False)[1:]])\n",
    "        \n",
    "        tmpMean = np.mean(tmp) - np.mean(tmp2)\n",
    "        \n",
    "        tmp2[1:] += tmpMean*(np.float(len(tmp))/len(tmp2[1:]) )\n",
    "        \n",
    "        Alpha.append(tmp2)\n",
    "        \n",
    "    return Alpha"
   ]
  },
  {
   "cell_type": "code",
   "execution_count": null,
   "metadata": {
    "collapsed": true
   },
   "outputs": [],
   "source": [
    "plt.rcParams['mathtext.fontset'] = 'custom'\n",
    "plt.rcParams['mathtext.rm'] = 'Bitstream Vera Sans'\n",
    "plt.rcParams['mathtext.it'] = 'Bitstream Vera Sans:italic'\n",
    "plt.rcParams['mathtext.bf'] = 'Bitstream Vera Sans:bold'\n",
    "plt.rc('font', family='serif')\n",
    "plt.rcParams.update({'font.size': 22})"
   ]
  },
  {
   "cell_type": "code",
   "execution_count": null,
   "metadata": {
    "collapsed": true
   },
   "outputs": [],
   "source": [
    "def ratioCorrect(n, ratio, threshold = 3.5):\n",
    "    \n",
    "    df = pd.DataFrame({'n':np.tile(n, ratio.shape[0]), 'ratio':ratio.flatten()})\n",
    "    dfr = df[np.abs(df[\"ratio\"]) < threshold]\n",
    "    md = smf.mixedlm(\"ratio ~ n\",dfr, groups=dfr[\"n\"])\n",
    "    mdf = md.fit()\n",
    "    dfr = dfr.assign(fitted = mdf.params[0] + mdf.params[1] * dfr[\"n\"])\n",
    "    \n",
    "    return [dfr, np.abs(mdf.params[1]), mdf]"
   ]
  },
  {
   "cell_type": "code",
   "execution_count": null,
   "metadata": {
    "collapsed": true
   },
   "outputs": [],
   "source": [
    "def ratioCorrectOLS(n, ratio, threshold = 3.5):\n",
    "    \n",
    "    df = pd.DataFrame({'n':np.tile(n, ratio.shape[0]), 'ratio':ratio.flatten()})\n",
    "    dfr = df[np.abs(df[\"ratio\"]) < threshold]\n",
    "    md = smf.ols(\"ratio ~ n\",dfr)\n",
    "    mdf = md.fit()\n",
    "    dfr = dfr.assign(fitted = mdf.params[0] + mdf.params[1] * dfr[\"n\"])\n",
    "    \n",
    "    return [dfr, np.abs(mdf.params[1])]"
   ]
  },
  {
   "cell_type": "code",
   "execution_count": null,
   "metadata": {
    "collapsed": true
   },
   "outputs": [],
   "source": [
    "outAlphaMinVar = compRelEffVarShapeVarMin(ALPHA=\n",
    "                                          [np.linspace( e, e + 1, 10, endpoint=False) for e in np.linspace(1, 5, 11)])"
   ]
  },
  {
   "cell_type": "code",
   "execution_count": null,
   "metadata": {
    "collapsed": true
   },
   "outputs": [],
   "source": [
    "fig, ax = plt.subplots(figsize = [20, 10])\n",
    "nValues = np.linspace(1, 5, 11, endpoint= True)\n",
    "normalize = mcolors.Normalize(vmin=nValues.min(), vmax=nValues.max())\n",
    "colormap = cm.jet\n",
    "table = np.zeros([len(outAlphaMinVar), 3])\n",
    "for i in range(len(outAlphaMinVar)):\n",
    "    n, ratio, shape, mu, c = outAlphaMinVar[i]\n",
    "    \n",
    "    out = ratioCorrectOLS(n, ratio)\n",
    "    rLine = out[0]\n",
    "    r = out[1]\n",
    "    ax.scatter(rLine[\"n\"], rLine[\"ratio\"], alpha = .1, s = 5, color=colormap(normalize(nValues[i])))\n",
    "    ax.plot(rLine[\"n\"], rLine[\"fitted\"], alpha = .5, lw = .5, color=colormap(normalize(nValues[i])),\n",
    "            label = \"\".join([\"c = \", np.str(\"{:.0e}\".format(c)),\" ,mu = \", np.str(\"{:.2e}\".format(mu))]))\n",
    "    \n",
    "    table[i,:] = shape[0], mu, r\n",
    "    \n",
    "ax.set_xlim([0, 2000])\n",
    "ax.set_ylim([-3.5, 0])\n",
    "ax.set_xlabel(r'n', fontsize = 30)\n",
    "ax.set_ylabel(r\"$ log(\\Lambda)$\", fontsize = 30)\n",
    "scalarmappaple = cm.ScalarMappable(norm=normalize, cmap=colormap)\n",
    "scalarmappaple.set_array(nValues)\n",
    "cbar = fig.colorbar(scalarmappaple)\n",
    "cbar.set_label(r\"$ \\alpha_{min} $\", fontsize = 30)"
   ]
  },
  {
   "cell_type": "code",
   "execution_count": null,
   "metadata": {
    "collapsed": true
   },
   "outputs": [],
   "source": [
    "fig.savefig(\"./plots.v.1.0/alphaMinVar.pdf\")"
   ]
  },
  {
   "cell_type": "code",
   "execution_count": null,
   "metadata": {
    "collapsed": true
   },
   "outputs": [],
   "source": [
    "outAlphaMinConst = compRelEffVarShapeVarMin(ALPHA= createMinConstAlpha())"
   ]
  },
  {
   "cell_type": "code",
   "execution_count": null,
   "metadata": {
    "collapsed": true
   },
   "outputs": [],
   "source": [
    "fig, ax = plt.subplots(figsize = [20, 10])\n",
    "nValues = np.array([np.round(np.mean(outAlphaMinConst[i][2]), 2) for i in range(len(outAlphaMinConst))])\n",
    "normalize = mcolors.Normalize(vmin=nValues.min(), vmax=nValues.max())\n",
    "colormap = cm.jet\n",
    "table = np.zeros([len(outAlphaMinConst), 3])\n",
    "for i in range(len(outAlphaMinConst)):\n",
    "    n, ratio, shape, mu, c = outAlphaMinConst[i]\n",
    "    \n",
    "    out = ratioCorrectOLS(n, ratio, threshold=3)\n",
    "    rLine = out[0]\n",
    "    r = out[1]\n",
    "    ax.scatter(rLine[\"n\"], rLine[\"ratio\"], alpha = .1, s = 5, color=colormap(normalize(nValues[i])))\n",
    "    ax.plot(rLine[\"n\"], rLine[\"fitted\"], alpha = .5, lw = .5, color=colormap(normalize(nValues[i])),\n",
    "            label = \"\".join([\"c = \", np.str(\"{:.0e}\".format(c)),\" ,mu = \", np.str(\"{:.2e}\".format(mu))]))\n",
    "    \n",
    "    table[i,:] = np.mean(shape), mu, r\n",
    "\n",
    "ax.set_xlim([0, 2000])\n",
    "ax.set_ylim([-3, 0])\n",
    "ax.set_xlabel(r'n', fontsize = 30)\n",
    "ax.set_ylabel(r\"$ log(\\Lambda)$\", fontsize = 30)\n",
    "scalarmappaple = cm.ScalarMappable(norm=normalize, cmap=colormap)\n",
    "scalarmappaple.set_array(nValues)\n",
    "cbar = fig.colorbar(scalarmappaple)\n",
    "cbar.set_label(r\"$\\bar{\\alpha}$\", fontsize = 30)"
   ]
  },
  {
   "cell_type": "code",
   "execution_count": null,
   "metadata": {
    "collapsed": true
   },
   "outputs": [],
   "source": [
    "fig.savefig(\"./plots.v.1.0/alphaMinConst.pdf\")"
   ]
  },
  {
   "cell_type": "code",
   "execution_count": null,
   "metadata": {
    "collapsed": true
   },
   "outputs": [],
   "source": [
    "table"
   ]
  },
  {
   "cell_type": "code",
   "execution_count": null,
   "metadata": {
    "collapsed": true
   },
   "outputs": [],
   "source": [
    "import pickle as pkl\n",
    "pkl.dump(outAlphaMinConst, open(\"./simData/ourAlphaMinConst.pkl\", \"wb\"))\n",
    "pkl.dump(outAlphaMinVar, open(\"./simData/ourAlphaMinVar.pkl\", \"wb\"))"
   ]
  },
  {
   "cell_type": "code",
   "execution_count": null,
   "metadata": {
    "collapsed": true
   },
   "outputs": [],
   "source": [
    "n, ratio, shape, mu, c = outAlphaMinConst[0]\n",
    "ss =ratioCorrect(n, ratio)"
   ]
  },
  {
   "cell_type": "code",
   "execution_count": null,
   "metadata": {
    "collapsed": true
   },
   "outputs": [],
   "source": [
    "model.summary()"
   ]
  },
  {
   "cell_type": "code",
   "execution_count": 4,
   "metadata": {
    "collapsed": true
   },
   "outputs": [],
   "source": [
    "def timeIt(shape = np.linspace( 1, 2, 10, endpoint=False), \n",
    "                    n = np.linspace(2, 20000, 1000).astype(np.int), kappa = .01, k = 5, c = 100, verbose = False):\n",
    "    \n",
    "    print(shape)\n",
    "    \n",
    "    times = np.zeros((k, len(n), 2))\n",
    "    for i in range(len(n)):\n",
    "        \n",
    "        tmp = CMC(shape = shape, n = n[i], c = c)\n",
    "        \n",
    "        for j in range(k):\n",
    "            \n",
    "            tmp.take_sample()\n",
    "            s = time.time()\n",
    "            tmp.cmc()\n",
    "            e1 = time.time()\n",
    "            tmp.mc()\n",
    "            e2 = time.time()\n",
    "            times[j, i, :] = [e1-s, e2-e1]\n",
    "    \n",
    "    return(n, times)"
   ]
  },
  {
   "cell_type": "code",
   "execution_count": 5,
   "metadata": {},
   "outputs": [
    {
     "name": "stdout",
     "output_type": "stream",
     "text": [
      "[1.  1.1 1.2 1.3 1.4 1.5 1.6 1.7 1.8 1.9]\n"
     ]
    }
   ],
   "source": [
    "times160 = timeIt(n = np.linspace(5000,400000,159, endpoint=True).astype(np.int))"
   ]
  },
  {
   "cell_type": "code",
   "execution_count": 6,
   "metadata": {
    "collapsed": true
   },
   "outputs": [],
   "source": [
    "n = np.linspace(5000,400000,159, endpoint=True)\n",
    "times_df = pd.DataFrame(times160[1].reshape([len(n)*5, 2]))\n",
    "times_df.columns = [\"MC\", \"CMC\"]\n",
    "times_df[\"n\"] = np.tile(times160[0], 5)"
   ]
  },
  {
   "cell_type": "code",
   "execution_count": 7,
   "metadata": {
    "collapsed": true
   },
   "outputs": [],
   "source": [
    "times_melt = times_df.melt(id_vars=\"n\", value_vars=[\"MC\", \"CMC\"])"
   ]
  },
  {
   "cell_type": "code",
   "execution_count": 13,
   "metadata": {},
   "outputs": [],
   "source": [
    "spl = UnivariateSpline(times160[0],\n",
    "                       np.log(np.mean(times160[1], 0)[:,1]) - np.log(np.mean(times160[1], 0)[:,0]))\n",
    "xs = np.linspace(times160[0][0], times160[0][-1], 1000)"
   ]
  },
  {
   "cell_type": "code",
   "execution_count": 14,
   "metadata": {},
   "outputs": [
    {
     "data": {
      "text/html": [
       "<table class=\"simpletable\">\n",
       "<caption>OLS Regression Results</caption>\n",
       "<tr>\n",
       "  <th>Dep. Variable:</th>        <td>logRatio</td>     <th>  R-squared:         </th> <td>   0.171</td>\n",
       "</tr>\n",
       "<tr>\n",
       "  <th>Model:</th>                   <td>OLS</td>       <th>  Adj. R-squared:    </th> <td>   0.170</td>\n",
       "</tr>\n",
       "<tr>\n",
       "  <th>Method:</th>             <td>Least Squares</td>  <th>  F-statistic:       </th> <td>   123.7</td>\n",
       "</tr>\n",
       "<tr>\n",
       "  <th>Date:</th>             <td>Tue, 07 May 2019</td> <th>  Prob (F-statistic):</th> <td>2.98e-26</td>\n",
       "</tr>\n",
       "<tr>\n",
       "  <th>Time:</th>                 <td>10:24:16</td>     <th>  Log-Likelihood:    </th> <td>  829.76</td>\n",
       "</tr>\n",
       "<tr>\n",
       "  <th>No. Observations:</th>      <td>   600</td>      <th>  AIC:               </th> <td>  -1656.</td>\n",
       "</tr>\n",
       "<tr>\n",
       "  <th>Df Residuals:</th>          <td>   598</td>      <th>  BIC:               </th> <td>  -1647.</td>\n",
       "</tr>\n",
       "<tr>\n",
       "  <th>Df Model:</th>              <td>     1</td>      <th>                     </th>     <td> </td>   \n",
       "</tr>\n",
       "<tr>\n",
       "  <th>Covariance Type:</th>      <td>nonrobust</td>    <th>                     </th>     <td> </td>   \n",
       "</tr>\n",
       "</table>\n",
       "<table class=\"simpletable\">\n",
       "<tr>\n",
       "      <td></td>         <th>coef</th>     <th>std err</th>      <th>t</th>      <th>P>|t|</th>  <th>[0.025</th>    <th>0.975]</th>  \n",
       "</tr>\n",
       "<tr>\n",
       "  <th>Intercept</th> <td>   -4.7058</td> <td>    0.008</td> <td> -617.810</td> <td> 0.000</td> <td>   -4.721</td> <td>   -4.691</td>\n",
       "</tr>\n",
       "<tr>\n",
       "  <th>n</th>         <td> 3.188e-07</td> <td> 2.87e-08</td> <td>   11.123</td> <td> 0.000</td> <td> 2.63e-07</td> <td> 3.75e-07</td>\n",
       "</tr>\n",
       "</table>\n",
       "<table class=\"simpletable\">\n",
       "<tr>\n",
       "  <th>Omnibus:</th>       <td>202.444</td> <th>  Durbin-Watson:     </th> <td>   1.553</td> \n",
       "</tr>\n",
       "<tr>\n",
       "  <th>Prob(Omnibus):</th> <td> 0.000</td>  <th>  Jarque-Bera (JB):  </th> <td> 732.622</td> \n",
       "</tr>\n",
       "<tr>\n",
       "  <th>Skew:</th>          <td> 1.553</td>  <th>  Prob(JB):          </th> <td>8.19e-160</td>\n",
       "</tr>\n",
       "<tr>\n",
       "  <th>Kurtosis:</th>      <td> 7.434</td>  <th>  Cond. No.          </th> <td>8.16e+05</td> \n",
       "</tr>\n",
       "</table><br/><br/>Warnings:<br/>[1] Standard Errors assume that the covariance matrix of the errors is correctly specified.<br/>[2] The condition number is large, 8.16e+05. This might indicate that there are<br/>strong multicollinearity or other numerical problems."
      ],
      "text/plain": [
       "<class 'statsmodels.iolib.summary.Summary'>\n",
       "\"\"\"\n",
       "                            OLS Regression Results                            \n",
       "==============================================================================\n",
       "Dep. Variable:               logRatio   R-squared:                       0.171\n",
       "Model:                            OLS   Adj. R-squared:                  0.170\n",
       "Method:                 Least Squares   F-statistic:                     123.7\n",
       "Date:                Tue, 07 May 2019   Prob (F-statistic):           2.98e-26\n",
       "Time:                        10:24:16   Log-Likelihood:                 829.76\n",
       "No. Observations:                 600   AIC:                            -1656.\n",
       "Df Residuals:                     598   BIC:                            -1647.\n",
       "Df Model:                           1                                         \n",
       "Covariance Type:            nonrobust                                         \n",
       "==============================================================================\n",
       "                 coef    std err          t      P>|t|      [0.025      0.975]\n",
       "------------------------------------------------------------------------------\n",
       "Intercept     -4.7058      0.008   -617.810      0.000      -4.721      -4.691\n",
       "n           3.188e-07   2.87e-08     11.123      0.000    2.63e-07    3.75e-07\n",
       "==============================================================================\n",
       "Omnibus:                      202.444   Durbin-Watson:                   1.553\n",
       "Prob(Omnibus):                  0.000   Jarque-Bera (JB):              732.622\n",
       "Skew:                           1.553   Prob(JB):                    8.19e-160\n",
       "Kurtosis:                       7.434   Cond. No.                     8.16e+05\n",
       "==============================================================================\n",
       "\n",
       "Warnings:\n",
       "[1] Standard Errors assume that the covariance matrix of the errors is correctly specified.\n",
       "[2] The condition number is large, 8.16e+05. This might indicate that there are\n",
       "strong multicollinearity or other numerical problems.\n",
       "\"\"\""
      ]
     },
     "execution_count": 14,
     "metadata": {},
     "output_type": "execute_result"
    }
   ],
   "source": [
    "times_df = times_df.assign(logRatio = np.log(times_df[\"CMC\"]) - np.log(times_df[\"MC\"]))\n",
    "md = smf.ols(\"logRatio ~ n\",times_df.loc[times_df.loc[:,\"n\"] > 100000,:])\n",
    "mdf = md.fit()\n",
    "times_df = times_df.assign(fitted = mdf.params[0] + mdf.params[1] * times_df[\"n\"])\n",
    "mdf.params[1]\n",
    "mdf.summary()"
   ]
  },
  {
   "cell_type": "code",
   "execution_count": 15,
   "metadata": {
    "collapsed": true
   },
   "outputs": [],
   "source": [
    "from matplotlib.ticker import FormatStrFormatter\n",
    "plt.rcParams['mathtext.fontset'] = 'custom'\n",
    "plt.rcParams['mathtext.rm'] = 'Bitstream Vera Sans'\n",
    "plt.rcParams['mathtext.it'] = 'Bitstream Vera Sans:italic'\n",
    "plt.rcParams['mathtext.bf'] = 'Bitstream Vera Sans:bold'\n",
    "plt.rc('font', family='serif')\n",
    "plt.rcParams.update({'font.size': 22})"
   ]
  },
  {
   "cell_type": "code",
   "execution_count": 16,
   "metadata": {},
   "outputs": [
    {
     "data": {
      "text/plain": [
       "(5000, 400000)"
      ]
     },
     "execution_count": 16,
     "metadata": {},
     "output_type": "execute_result"
    },
    {
     "data": {
      "image/png": "[encoded data removed]",
      "text/plain": [
       "<matplotlib.figure.Figure at 0x110e8e750>"
      ]
     },
     "metadata": {},
     "output_type": "display_data"
    }
   ],
   "source": [
    "f, ax = plt.subplots(figsize = [20, 10])\n",
    "ax.scatter(times_df[\"n\"], y = np.log(times_df[\"CMC\"]) - np.log(times_df[\"MC\"]), c = \"k\", alpha = .8, s = 5)\n",
    "#ax.plot(times160[0],np.log(np.mean(times160[1], 0)[:,1]) - np.log(np.mean(times160[1], 0)[:,0]),\n",
    "#        alpha = 1, label = \"mean\")\n",
    "ax.plot(xs, spl(xs),c = \"k\", ls = \"dashed\", label = \"Cubic Spline\")\n",
    "ax.plot(times_df[\"n\"], times_df[\"fitted\"], c = \"k\", label = \"OLS fit to n > 1e5\")\n",
    "ax.set_xlabel(r'n', fontsize = 30)\n",
    "ax.set_ylabel(r\"$ log(t_{CMC}/t_{MC})$\", fontsize = 30)\n",
    "ax.legend(loc = 4)\n",
    "ax.xaxis.set_major_formatter(FormatStrFormatter('%0.1e'))\n",
    "ax.set_xlim([5000, 400000])"
   ]
  },
  {
   "cell_type": "code",
   "execution_count": 227,
   "metadata": {
    "collapsed": true
   },
   "outputs": [],
   "source": [
    "f.savefig(\"./plots.v.1.0/complexity.pdf\")"
   ]
  },
  {
   "cell_type": "code",
   "execution_count": 87,
   "metadata": {},
   "outputs": [
    {
     "data": {
      "text/plain": [
       "array([0.00587373, 0.15278331])"
      ]
     },
     "execution_count": 87,
     "metadata": {},
     "output_type": "execute_result"
    }
   ],
   "source": [
    "np.log(np.mean(times[1], 0)[1]) - np.log(np.mean(times[1], 0)[0])"
   ]
  },
  {
   "cell_type": "code",
   "execution_count": 90,
   "metadata": {},
   "outputs": [
    {
     "data": {
      "text/plain": [
       "array([0.00221841, 0.00258461, 0.00294447, 0.00366333, 0.00383991,\n",
       "       0.00424198, 0.00466461, 0.00527594, 0.0056018 , 0.00582927,\n",
       "       0.00617845, 0.00706613, 0.00724617, 0.00743279, 0.00783445,\n",
       "       0.00822489, 0.00869793, 0.00940874, 0.00951387, 0.01000428,\n",
       "       0.01024333, 0.01092145, 0.01111697, 0.011634  , 0.01226275,\n",
       "       0.0124136 , 0.0128121 , 0.01332309, 0.0143939 , 0.01478788,\n",
       "       0.01481504, 0.01543914, 0.01671559, 0.01732965, 0.01677997,\n",
       "       0.0172138 , 0.01804465, 0.018691  , 0.01857597, 0.01904343])"
      ]
     },
     "execution_count": 90,
     "metadata": {},
     "output_type": "execute_result"
    }
   ],
   "source": [
    "np.mean(times[1], 0)[:,1]"
   ]
  },
  {
   "cell_type": "code",
   "execution_count": 12,
   "metadata": {
    "collapsed": true
   },
   "outputs": [],
   "source": [
    "from scipy.interpolate import UnivariateSpline"
   ]
  },
  {
   "cell_type": "code",
   "execution_count": 27,
   "metadata": {},
   "outputs": [
    {
     "data": {
      "text/plain": [
       "1.0009994598011094"
      ]
     },
     "execution_count": 27,
     "metadata": {},
     "output_type": "execute_result"
    }
   ],
   "source": [
    "np.log(2.721)"
   ]
  },
  {
   "cell_type": "code",
   "execution_count": null,
   "metadata": {
    "collapsed": true
   },
   "outputs": [],
   "source": []
  }
 ],
 "metadata": {
  "kernelspec": {
   "display_name": "Python 2",
   "language": "python",
   "name": "python2"
  },
  "language_info": {
   "codemirror_mode": {
    "name": "ipython",
    "version": 2
   },
   "file_extension": ".py",
   "mimetype": "text/x-python",
   "name": "python",
   "nbconvert_exporter": "python",
   "pygments_lexer": "ipython2",
   "version": "2.7.16"
  }
 },
 "nbformat": 4,
 "nbformat_minor": 2
}
