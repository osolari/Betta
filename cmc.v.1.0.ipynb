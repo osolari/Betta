{
 "cells": [
  {
   "cell_type": "code",
   "execution_count": 1,
   "metadata": {},
   "outputs": [],
   "source": [
    "import numpy as np\n",
    "import statsmodels.api as sm\n",
    "import statsmodels.formula.api as smf\n",
    "import matplotlib.pyplot as plt\n",
    "from relativeEfficiencyLib import *\n",
    "import matplotlib.colors as mcolors\n",
    "import matplotlib.cm as cm\n",
    "import pandas as pd\n",
    "import time\n",
    "%matplotlib inline"
   ]
  },
  {
   "cell_type": "code",
   "execution_count": null,
   "metadata": {},
   "outputs": [],
   "source": [
    "def createMinConstAlpha():\n",
    "    \n",
    "    Alpha = []\n",
    "    for e in np.linspace(1, 5, 11):\n",
    "        \n",
    "        tmp = np.linspace( e, e + 1, 10, endpoint=False)\n",
    "        tmp2 = np.concatenate([[1],np.linspace( e, e + 1, 10, endpoint=False)[1:]])\n",
    "        \n",
    "        tmpMean = np.mean(tmp) - np.mean(tmp2)\n",
    "        \n",
    "        tmp2[1:] += tmpMean*(np.float(len(tmp))/len(tmp2[1:]) )\n",
    "        \n",
    "        Alpha.append(tmp2)\n",
    "        \n",
    "    return Alpha"
   ]
  },
  {
   "cell_type": "code",
   "execution_count": null,
   "metadata": {},
   "outputs": [],
   "source": [
    "plt.rcParams['mathtext.fontset'] = 'custom'\n",
    "plt.rcParams['mathtext.rm'] = 'Bitstream Vera Sans'\n",
    "plt.rcParams['mathtext.it'] = 'Bitstream Vera Sans:italic'\n",
    "plt.rcParams['mathtext.bf'] = 'Bitstream Vera Sans:bold'\n",
    "plt.rc('font', family='serif')\n",
    "plt.rcParams.update({'font.size': 22})"
   ]
  },
  {
   "cell_type": "code",
   "execution_count": null,
   "metadata": {},
   "outputs": [],
   "source": [
    "def ratioCorrect(n, ratio, threshold = 3.5):\n",
    "    \n",
    "    df = pd.DataFrame({'n':np.tile(n, ratio.shape[0]), 'ratio':ratio.flatten()})\n",
    "    dfr = df[np.abs(df[\"ratio\"]) < threshold]\n",
    "    md = smf.mixedlm(\"ratio ~ n\",dfr, groups=dfr[\"n\"])\n",
    "    mdf = md.fit()\n",
    "    dfr = dfr.assign(fitted = mdf.params[0] + mdf.params[1] * dfr[\"n\"])\n",
    "    \n",
    "    return [dfr, np.abs(mdf.params[1]), mdf]"
   ]
  },
  {
   "cell_type": "code",
   "execution_count": null,
   "metadata": {},
   "outputs": [],
   "source": [
    "def ratioCorrectOLS(n, ratio, threshold = 3.5):\n",
    "    \n",
    "    df = pd.DataFrame({'n':np.tile(n, ratio.shape[0]), 'ratio':ratio.flatten()})\n",
    "    dfr = df[np.abs(df[\"ratio\"]) < threshold]\n",
    "    md = smf.ols(\"ratio ~ n\",dfr)\n",
    "    mdf = md.fit()\n",
    "    dfr = dfr.assign(fitted = mdf.params[0] + mdf.params[1] * dfr[\"n\"])\n",
    "    \n",
    "    return [dfr, np.abs(mdf.params[1])]"
   ]
  },
  {
   "cell_type": "code",
   "execution_count": null,
   "metadata": {},
   "outputs": [],
   "source": [
    "outAlphaMinVar = compRelEffVarShapeVarMin(ALPHA=\n",
    "                                          [np.linspace( e, e + 1, 10, endpoint=False) for e in np.linspace(1, 5, 11)])"
   ]
  },
  {
   "cell_type": "code",
   "execution_count": null,
   "metadata": {},
   "outputs": [],
   "source": [
    "fig, ax = plt.subplots(figsize = [20, 10])\n",
    "nValues = np.linspace(1, 5, 11, endpoint= True)\n",
    "normalize = mcolors.Normalize(vmin=nValues.min(), vmax=nValues.max())\n",
    "colormap = cm.jet\n",
    "table = np.zeros([len(outAlphaMinVar), 3])\n",
    "for i in range(len(outAlphaMinVar)):\n",
    "    n, ratio, shape, mu, c = outAlphaMinVar[i]\n",
    "    \n",
    "    out = ratioCorrectOLS(n, ratio)\n",
    "    rLine = out[0]\n",
    "    r = out[1]\n",
    "    ax.scatter(rLine[\"n\"], rLine[\"ratio\"], alpha = .1, s = 5, color=colormap(normalize(nValues[i])))\n",
    "    ax.plot(rLine[\"n\"], rLine[\"fitted\"], alpha = .5, lw = .5, color=colormap(normalize(nValues[i])),\n",
    "            label = \"\".join([\"c = \", np.str(\"{:.0e}\".format(c)),\" ,mu = \", np.str(\"{:.2e}\".format(mu))]))\n",
    "    \n",
    "    table[i,:] = shape[0], mu, r\n",
    "    \n",
    "ax.set_xlim([0, 2000])\n",
    "ax.set_ylim([-3.5, 0])\n",
    "ax.set_xlabel(r'n', fontsize = 30)\n",
    "ax.set_ylabel(r\"$ log(\\Lambda)$\", fontsize = 30)\n",
    "scalarmappaple = cm.ScalarMappable(norm=normalize, cmap=colormap)\n",
    "scalarmappaple.set_array(nValues)\n",
    "cbar = fig.colorbar(scalarmappaple)\n",
    "cbar.set_label(r\"$ \\alpha_{min} $\", fontsize = 30)"
   ]
  },
  {
   "cell_type": "code",
   "execution_count": null,
   "metadata": {},
   "outputs": [],
   "source": [
    "fig.savefig(\"./plots.v.1.0/alphaMinVar.pdf\")"
   ]
  },
  {
   "cell_type": "code",
   "execution_count": null,
   "metadata": {},
   "outputs": [],
   "source": [
    "outAlphaMinConst = compRelEffVarShapeVarMin(ALPHA= createMinConstAlpha())"
   ]
  },
  {
   "cell_type": "code",
   "execution_count": null,
   "metadata": {},
   "outputs": [],
   "source": [
    "fig, ax = plt.subplots(figsize = [20, 10])\n",
    "nValues = np.array([np.round(np.mean(outAlphaMinConst[i][2]), 2) for i in range(len(outAlphaMinConst))])\n",
    "normalize = mcolors.Normalize(vmin=nValues.min(), vmax=nValues.max())\n",
    "colormap = cm.jet\n",
    "table = np.zeros([len(outAlphaMinConst), 3])\n",
    "for i in range(len(outAlphaMinConst)):\n",
    "    n, ratio, shape, mu, c = outAlphaMinConst[i]\n",
    "    \n",
    "    out = ratioCorrectOLS(n, ratio, threshold=3)\n",
    "    rLine = out[0]\n",
    "    r = out[1]\n",
    "    ax.scatter(rLine[\"n\"], rLine[\"ratio\"], alpha = .1, s = 5, color=colormap(normalize(nValues[i])))\n",
    "    ax.plot(rLine[\"n\"], rLine[\"fitted\"], alpha = .5, lw = .5, color=colormap(normalize(nValues[i])),\n",
    "            label = \"\".join([\"c = \", np.str(\"{:.0e}\".format(c)),\" ,mu = \", np.str(\"{:.2e}\".format(mu))]))\n",
    "    \n",
    "    table[i,:] = np.mean(shape), mu, r\n",
    "\n",
    "ax.set_xlim([0, 2000])\n",
    "ax.set_ylim([-3, 0])\n",
    "ax.set_xlabel(r'n', fontsize = 30)\n",
    "ax.set_ylabel(r\"$ log(\\Lambda)$\", fontsize = 30)\n",
    "scalarmappaple = cm.ScalarMappable(norm=normalize, cmap=colormap)\n",
    "scalarmappaple.set_array(nValues)\n",
    "cbar = fig.colorbar(scalarmappaple)\n",
    "cbar.set_label(r\"$\\bar{\\alpha}$\", fontsize = 30)"
   ]
  },
  {
   "cell_type": "code",
   "execution_count": null,
   "metadata": {},
   "outputs": [],
   "source": [
    "fig.savefig(\"./plots.v.1.0/alphaMinConst.pdf\")"
   ]
  },
  {
   "cell_type": "code",
   "execution_count": null,
   "metadata": {},
   "outputs": [],
   "source": [
    "table"
   ]
  },
  {
   "cell_type": "code",
   "execution_count": null,
   "metadata": {},
   "outputs": [],
   "source": [
    "import pickle as pkl\n",
    "pkl.dump(outAlphaMinConst, open(\"./simData/ourAlphaMinConst.pkl\", \"wb\"))\n",
    "pkl.dump(outAlphaMinVar, open(\"./simData/ourAlphaMinVar.pkl\", \"wb\"))"
   ]
  },
  {
   "cell_type": "code",
   "execution_count": null,
   "metadata": {},
   "outputs": [],
   "source": [
    "n, ratio, shape, mu, c = outAlphaMinConst[0]\n",
    "ss =ratioCorrect(n, ratio)"
   ]
  },
  {
   "cell_type": "code",
   "execution_count": null,
   "metadata": {},
   "outputs": [],
   "source": [
    "model.summary()"
   ]
  },
  {
   "cell_type": "code",
   "execution_count": 104,
   "metadata": {},
   "outputs": [],
   "source": [
    "def timeIt(shape = np.linspace( 1, 2, 10, endpoint=False), \n",
    "                    n = np.linspace(2, 20000, 1000).astype(np.int), kappa = .01, k = 5, c = 100, verbose = False):\n",
    "    \n",
    "    print(shape)\n",
    "    \n",
    "    times = np.zeros((k, len(n), 2))\n",
    "    for i in range(len(n)):\n",
    "        \n",
    "        tmp = CMC(shape = shape, n = n[i], c = c)\n",
    "        \n",
    "        for j in range(k):\n",
    "            \n",
    "            tmp.take_sample()\n",
    "            s = time.time()\n",
    "            tmp.mc()\n",
    "            e1 = time.time()\n",
    "            tmp.cmc()\n",
    "            e2 = time.time()\n",
    "            times[j, i, :] = [e1-s, e2-e1]\n",
    "    \n",
    "    return(n, times)"
   ]
  },
  {
   "cell_type": "code",
   "execution_count": 176,
   "metadata": {},
   "outputs": [
    {
     "name": "stdout",
     "output_type": "stream",
     "text": [
      "[1.  1.1 1.2 1.3 1.4 1.5 1.6 1.7 1.8 1.9]\n"
     ]
    }
   ],
   "source": [
    "times160 = timeIt(n = np.linspace(5000,400000,159, endpoint=True).astype(np.int))"
   ]
  },
  {
   "cell_type": "code",
   "execution_count": 182,
   "metadata": {},
   "outputs": [],
   "source": [
    "n = np.linspace(5000,400000,159, endpoint=True)\n",
    "times_df = pd.DataFrame(times160[1].reshape([len(n)*5, 2]))\n",
    "times_df.columns = [\"MC\", \"CMC\"]\n",
    "times_df[\"n\"] = np.tile(times160[0], 5)"
   ]
  },
  {
   "cell_type": "code",
   "execution_count": 183,
   "metadata": {},
   "outputs": [],
   "source": [
    "times_melt = times_df.melt(id_vars=\"n\", value_vars=[\"MC\", \"CMC\"])"
   ]
  },
  {
   "cell_type": "code",
   "execution_count": 184,
   "metadata": {},
   "outputs": [],
   "source": [
    "spl = UnivariateSpline(times160[0],\n",
    "                       np.log(np.mean(times160[1], 0)[:,1]) - np.log(np.mean(times160[1], 0)[:,0]))\n",
    "xs = np.linspace(times160[0][0], times160[0][-1], 1000)"
   ]
  },
  {
   "cell_type": "code",
   "execution_count": 188,
   "metadata": {},
   "outputs": [
    {
     "data": {
      "text/html": [
       "<table class=\"simpletable\">\n",
       "<caption>OLS Regression Results</caption>\n",
       "<tr>\n",
       "  <th>Dep. Variable:</th>        <td>logRatio</td>     <th>  R-squared:         </th> <td>   0.000</td>\n",
       "</tr>\n",
       "<tr>\n",
       "  <th>Model:</th>                   <td>OLS</td>       <th>  Adj. R-squared:    </th> <td>  -0.002</td>\n",
       "</tr>\n",
       "<tr>\n",
       "  <th>Method:</th>             <td>Least Squares</td>  <th>  F-statistic:       </th> <td> 0.06869</td>\n",
       "</tr>\n",
       "<tr>\n",
       "  <th>Date:</th>             <td>Sat, 26 Jan 2019</td> <th>  Prob (F-statistic):</th>  <td> 0.793</td> \n",
       "</tr>\n",
       "<tr>\n",
       "  <th>Time:</th>                 <td>19:26:34</td>     <th>  Log-Likelihood:    </th> <td>  704.85</td>\n",
       "</tr>\n",
       "<tr>\n",
       "  <th>No. Observations:</th>      <td>   600</td>      <th>  AIC:               </th> <td>  -1406.</td>\n",
       "</tr>\n",
       "<tr>\n",
       "  <th>Df Residuals:</th>          <td>   598</td>      <th>  BIC:               </th> <td>  -1397.</td>\n",
       "</tr>\n",
       "<tr>\n",
       "  <th>Df Model:</th>              <td>     1</td>      <th>                     </th>     <td> </td>   \n",
       "</tr>\n",
       "<tr>\n",
       "  <th>Covariance Type:</th>      <td>nonrobust</td>    <th>                     </th>     <td> </td>   \n",
       "</tr>\n",
       "</table>\n",
       "<table class=\"simpletable\">\n",
       "<tr>\n",
       "      <td></td>         <th>coef</th>     <th>std err</th>      <th>t</th>      <th>P>|t|</th>  <th>[0.025</th>    <th>0.975]</th>  \n",
       "</tr>\n",
       "<tr>\n",
       "  <th>Intercept</th> <td>    4.5155</td> <td>    0.009</td> <td>  481.413</td> <td> 0.000</td> <td>    4.497</td> <td>    4.534</td>\n",
       "</tr>\n",
       "<tr>\n",
       "  <th>n</th>         <td> 9.251e-09</td> <td> 3.53e-08</td> <td>    0.262</td> <td> 0.793</td> <td>-6.01e-08</td> <td> 7.86e-08</td>\n",
       "</tr>\n",
       "</table>\n",
       "<table class=\"simpletable\">\n",
       "<tr>\n",
       "  <th>Omnibus:</th>       <td>36.859</td> <th>  Durbin-Watson:     </th> <td>   1.319</td>\n",
       "</tr>\n",
       "<tr>\n",
       "  <th>Prob(Omnibus):</th> <td> 0.000</td> <th>  Jarque-Bera (JB):  </th> <td>  81.421</td>\n",
       "</tr>\n",
       "<tr>\n",
       "  <th>Skew:</th>          <td>-0.343</td> <th>  Prob(JB):          </th> <td>2.09e-18</td>\n",
       "</tr>\n",
       "<tr>\n",
       "  <th>Kurtosis:</th>      <td> 4.669</td> <th>  Cond. No.          </th> <td>8.16e+05</td>\n",
       "</tr>\n",
       "</table><br/><br/>Warnings:<br/>[1] Standard Errors assume that the covariance matrix of the errors is correctly specified.<br/>[2] The condition number is large, 8.16e+05. This might indicate that there are<br/>strong multicollinearity or other numerical problems."
      ],
      "text/plain": [
       "<class 'statsmodels.iolib.summary.Summary'>\n",
       "\"\"\"\n",
       "                            OLS Regression Results                            \n",
       "==============================================================================\n",
       "Dep. Variable:               logRatio   R-squared:                       0.000\n",
       "Model:                            OLS   Adj. R-squared:                 -0.002\n",
       "Method:                 Least Squares   F-statistic:                   0.06869\n",
       "Date:                Sat, 26 Jan 2019   Prob (F-statistic):              0.793\n",
       "Time:                        19:26:34   Log-Likelihood:                 704.85\n",
       "No. Observations:                 600   AIC:                            -1406.\n",
       "Df Residuals:                     598   BIC:                            -1397.\n",
       "Df Model:                           1                                         \n",
       "Covariance Type:            nonrobust                                         \n",
       "==============================================================================\n",
       "                 coef    std err          t      P>|t|      [0.025      0.975]\n",
       "------------------------------------------------------------------------------\n",
       "Intercept      4.5155      0.009    481.413      0.000       4.497       4.534\n",
       "n           9.251e-09   3.53e-08      0.262      0.793   -6.01e-08    7.86e-08\n",
       "==============================================================================\n",
       "Omnibus:                       36.859   Durbin-Watson:                   1.319\n",
       "Prob(Omnibus):                  0.000   Jarque-Bera (JB):               81.421\n",
       "Skew:                          -0.343   Prob(JB):                     2.09e-18\n",
       "Kurtosis:                       4.669   Cond. No.                     8.16e+05\n",
       "==============================================================================\n",
       "\n",
       "Warnings:\n",
       "[1] Standard Errors assume that the covariance matrix of the errors is correctly specified.\n",
       "[2] The condition number is large, 8.16e+05. This might indicate that there are\n",
       "strong multicollinearity or other numerical problems.\n",
       "\"\"\""
      ]
     },
     "execution_count": 188,
     "metadata": {},
     "output_type": "execute_result"
    }
   ],
   "source": [
    "times_df = times_df.assign(logRatio = np.log(times_df[\"CMC\"]) - np.log(times_df[\"MC\"]))\n",
    "md = smf.ols(\"logRatio ~ n\",times_df.loc[times_df.loc[:,\"n\"] > 100000,:])\n",
    "mdf = md.fit()\n",
    "times_df = times_df.assign(fitted = mdf.params[0] + mdf.params[1] * times_df[\"n\"])\n",
    "mdf.params[1]\n",
    "mdf.summary()"
   ]
  },
  {
   "cell_type": "code",
   "execution_count": 225,
   "metadata": {},
   "outputs": [],
   "source": [
    "from matplotlib.ticker import FormatStrFormatter\n",
    "plt.rcParams['mathtext.fontset'] = 'custom'\n",
    "plt.rcParams['mathtext.rm'] = 'Bitstream Vera Sans'\n",
    "plt.rcParams['mathtext.it'] = 'Bitstream Vera Sans:italic'\n",
    "plt.rcParams['mathtext.bf'] = 'Bitstream Vera Sans:bold'\n",
    "plt.rc('font', family='serif')\n",
    "plt.rcParams.update({'font.size': 22})"
   ]
  },
  {
   "cell_type": "code",
   "execution_count": 226,
   "metadata": {},
   "outputs": [
    {
     "data": {
      "text/plain": [
       "(5000, 400000)"
      ]
     },
     "execution_count": 226,
     "metadata": {},
     "output_type": "execute_result"
    },
    {
     "data": {
      "image/png": "[encoded data removed]",
      "text/plain": [
       "<Figure size 1440x720 with 1 Axes>"
      ]
     },
     "metadata": {
      "needs_background": "light"
     },
     "output_type": "display_data"
    }
   ],
   "source": [
    "f, ax = plt.subplots(figsize = [20, 10])\n",
    "ax.scatter(times_df[\"n\"], y = np.log(times_df[\"CMC\"]) - np.log(times_df[\"MC\"]), c = \"k\", alpha = .8, s = 5)\n",
    "#ax.plot(times160[0],np.log(np.mean(times160[1], 0)[:,1]) - np.log(np.mean(times160[1], 0)[:,0]),\n",
    "#        alpha = 1, label = \"mean\")\n",
    "ax.plot(xs, spl(xs),c = \"k\", ls = \"dashed\", label = \"Cubic Spline\")\n",
    "ax.plot(times_df[\"n\"], times_df[\"fitted\"], c = \"k\", label = \"OLS fit to n > 1e5\")\n",
    "ax.set_xlabel(r'n', fontsize = 30)\n",
    "ax.set_ylabel(r\"$ log(t_{CMC}/t_{MC})$\", fontsize = 30)\n",
    "ax.legend(loc = 4)\n",
    "ax.xaxis.set_major_formatter(FormatStrFormatter('%0.1e'))\n",
    "ax.set_xlim([5000, 400000])"
   ]
  },
  {
   "cell_type": "code",
   "execution_count": 227,
   "metadata": {},
   "outputs": [],
   "source": [
    "f.savefig(\"./plots.v.1.0/complexity.pdf\")"
   ]
  },
  {
   "cell_type": "code",
   "execution_count": 87,
   "metadata": {},
   "outputs": [
    {
     "data": {
      "text/plain": [
       "array([0.00587373, 0.15278331])"
      ]
     },
     "execution_count": 87,
     "metadata": {},
     "output_type": "execute_result"
    }
   ],
   "source": [
    "np.log(np.mean(times[1], 0)[1]) - np.log(np.mean(times[1], 0)[0])"
   ]
  },
  {
   "cell_type": "code",
   "execution_count": 90,
   "metadata": {},
   "outputs": [
    {
     "data": {
      "text/plain": [
       "array([0.00221841, 0.00258461, 0.00294447, 0.00366333, 0.00383991,\n",
       "       0.00424198, 0.00466461, 0.00527594, 0.0056018 , 0.00582927,\n",
       "       0.00617845, 0.00706613, 0.00724617, 0.00743279, 0.00783445,\n",
       "       0.00822489, 0.00869793, 0.00940874, 0.00951387, 0.01000428,\n",
       "       0.01024333, 0.01092145, 0.01111697, 0.011634  , 0.01226275,\n",
       "       0.0124136 , 0.0128121 , 0.01332309, 0.0143939 , 0.01478788,\n",
       "       0.01481504, 0.01543914, 0.01671559, 0.01732965, 0.01677997,\n",
       "       0.0172138 , 0.01804465, 0.018691  , 0.01857597, 0.01904343])"
      ]
     },
     "execution_count": 90,
     "metadata": {},
     "output_type": "execute_result"
    }
   ],
   "source": [
    "np.mean(times[1], 0)[:,1]"
   ]
  },
  {
   "cell_type": "code",
   "execution_count": 126,
   "metadata": {},
   "outputs": [],
   "source": [
    "from scipy.interpolate import UnivariateSpline"
   ]
  },
  {
   "cell_type": "code",
   "execution_count": null,
   "metadata": {},
   "outputs": [],
   "source": []
  }
 ],
 "metadata": {
  "kernelspec": {
   "display_name": "Python 2",
   "language": "python",
   "name": "python2"
  },
  "language_info": {
   "codemirror_mode": {
    "name": "ipython",
    "version": 2
   },
   "file_extension": ".py",
   "mimetype": "text/x-python",
   "name": "python",
   "nbconvert_exporter": "python",
   "pygments_lexer": "ipython2",
   "version": "2.7.15"
  }
 },
 "nbformat": 4,
 "nbformat_minor": 2
}
