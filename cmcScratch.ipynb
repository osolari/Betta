{
 "cells": [
  {
   "cell_type": "code",
   "execution_count": 1,
   "metadata": {},
   "outputs": [],
   "source": [
    "import numpy as np\n",
    "from scipy.stats import pareto\n",
    "import statsmodels.formula.api as sm\n",
    "from sklearn.linear_model import LinearRegression\n",
    "import matplotlib.pyplot as plt\n",
    "import pandas as pd\n",
    "%matplotlib inline"
   ]
  },
  {
   "cell_type": "code",
   "execution_count": 2,
   "metadata": {},
   "outputs": [],
   "source": [
    "def randomSamplenp(c = 100):\n",
    "    \n",
    "    s, n = 0, 0\n",
    "    \n",
    "    while s <= c:\n",
    "        \n",
    "        s += np.random.pareto(1) * 2\n",
    "        n += 1\n",
    "    \n",
    "    return n"
   ]
  },
  {
   "cell_type": "code",
   "execution_count": null,
   "metadata": {},
   "outputs": [],
   "source": [
    "def cmcSingleSample(shape, scale):\n",
    "    \n",
    "    return([np.random.pareto(shape[i])*scale[i] for i in range(len(shape))])"
   ]
  },
  {
   "cell_type": "code",
   "execution_count": null,
   "metadata": {},
   "outputs": [],
   "source": [
    "def cmcSample(n, shape , scale):\n",
    "    \n",
    "    assert len(shape) == len(scale)\n",
    "    \n",
    "    return(np.asmatrix([cmcSingleSample(shape , scale) for i in range(n)]))"
   ]
  },
  {
   "cell_type": "code",
   "execution_count": null,
   "metadata": {},
   "outputs": [],
   "source": [
    "def cmc(sample, c, shape, scale):\n",
    "    \n",
    "    z = 0\n",
    "    S = np.sum(sample)\n",
    "    m = np.max(sample)\n",
    "    \n",
    "    def compZi(i, sample, c, shapei, scalei):\n",
    "        \n",
    "        ix = range(i) + range(i+1, sample.shape[1])\n",
    "        \n",
    "        return(pareto.sf( np.max([c - np.sum(sample[:,ix]), np.max(sample[:,ix])]), shapei, scale = scalei))\n",
    "    \n",
    "    return(np.sum([compZi(i, sample, c, shape[i], scale[i]) for i in range(sample.shape[1])]))"
   ]
  },
  {
   "cell_type": "code",
   "execution_count": 191,
   "metadata": {},
   "outputs": [],
   "source": [
    "class CMC:\n",
    "    \n",
    "    def __init__(self, shape = None, scale = None, c = 100, N = 10, n = 100, K = 50, kappa = 0.01):\n",
    "        \n",
    "        if shape is None:\n",
    "            #self.shape = np.linspace( 1, 1 + N, N, endpoint=False)\n",
    "            self.shape = np.linspace( 1, 2, N, endpoint=False)\n",
    "        if scale is None:\n",
    "            #self.scale = np.linspace( 2, 2 + N, N, endpoint=False)\n",
    "            self.scale = np.linspace( 2, 3, N, endpoint=False)\n",
    "        \n",
    "        assert len(self.shape) == len(self.scale)\n",
    "        assert isinstance(n, int), \"n must be an integer.\"\n",
    "        \n",
    "        self.c = c\n",
    "        self.N = N\n",
    "        self.n = n\n",
    "        self.K = K\n",
    "        self.kappa = kappa\n",
    "        \n",
    "    def takeSample(self, n = None):\n",
    "        \n",
    "        if n:\n",
    "            self.n = n\n",
    "        \n",
    "        self.sample = np.asmatrix([np.random.pareto(self.shape[i], self.n)*self.scale[i] \n",
    "                                   for i in range(len(self.shape))])\n",
    "        \n",
    "    def cmc(self):\n",
    "    \n",
    "        z = 0\n",
    "    \n",
    "        def compZi(i, sample, c, shapei, scalei):\n",
    "            \n",
    "            ix = range(i) + range(i+1, sample.shape[0])\n",
    "            return(pareto.sf(np.max(np.concatenate((c - np.sum(sample[ix,:], 0), \n",
    "                                                    np.max(sample[ix,:], 0))), 0), shapei, scale = scalei))\n",
    "        \n",
    "        self.Z = np.sum(np.concatenate([compZi(i, self.sample, self.c, self.shape[i], self.scale[i]) \n",
    "                         for i in range(self.sample.shape[0])]), 0)\n",
    "        self.Zbar = np.mean(self.Z)\n",
    "        \n",
    "    def mc(self):\n",
    "        \n",
    "        self.muHat = (np.sum(self.sample, 0) > self.c).astype(int)\n",
    "        self.muBar = np.mean(self.muHat)\n",
    "        \n",
    "        \n",
    "    def compRelEff(self, mu):\n",
    "        \n",
    "        def mccmc(obj):\n",
    "        \n",
    "            obj.takeSample()\n",
    "            obj.cmc()\n",
    "            obj.mc()\n",
    "            \n",
    "            return((obj.muBar, obj.Zbar))\n",
    "        \n",
    "        self.muHatZbars = np.asmatrix([mccmc(self) for i in range(self.K)])\n",
    "        \n",
    "        self.relEff = np.log(np.mean((self.muHatZbars[:,1] - mu) > \n",
    "                              self.kappa * mu) / np.mean((self.muHatZbars[:,0] - mu) > \n",
    "                                                         self.kappa * mu))"
   ]
  },
  {
   "cell_type": "code",
   "execution_count": 183,
   "metadata": {},
   "outputs": [],
   "source": [
    "def compRelEffCurve(n = np.linspace(2, 2000, 50).astype(np.int), k = 20):\n",
    "    \n",
    "    def compMu(n = np.int(1e6)):\n",
    "    \n",
    "        tmp = CMC(n=n)\n",
    "        tmp.take_sample()\n",
    "        tmp.cmc()\n",
    "        \n",
    "        return(tmp.Zbar)\n",
    "    \n",
    "    print(\"Computing Mu\")\n",
    "    mu = np.mean([compMu() for i in range(k)])\n",
    "    \n",
    "    relEffs = np.zeros((k, len(n)))\n",
    "    for i in range(len(n)):\n",
    "        \n",
    "        print(\"Computing relative efficiency for n = {}\".format(n[i]))\n",
    "        tmp = CMC(n = n[i])\n",
    "        \n",
    "        for j in range(k):\n",
    "            tmp.compRelEff(mu)\n",
    "            relEffs[j, i] = tmp.relEff\n",
    "    \n",
    "    return(n, relEffs)"
   ]
  },
  {
   "cell_type": "code",
   "execution_count": 3,
   "metadata": {},
   "outputs": [
    {
     "name": "stdout",
     "output_type": "stream",
     "text": [
      "Computing Mu\n",
      "[0.03366787727402211]\n",
      "Computing relative efficiency for n = 2\n"
     ]
    },
    {
     "name": "stderr",
     "output_type": "stream",
     "text": [
      "cmc.py:67: RuntimeWarning: divide by zero encountered in log\n",
      "  self.kappa * mu) + epsilon)\n"
     ]
    },
    {
     "name": "stdout",
     "output_type": "stream",
     "text": [
      "Computing relative efficiency for n = 42\n",
      "Computing relative efficiency for n = 83\n",
      "Computing relative efficiency for n = 124\n",
      "Computing relative efficiency for n = 165\n",
      "Computing relative efficiency for n = 205\n",
      "Computing relative efficiency for n = 246\n",
      "Computing relative efficiency for n = 287\n",
      "Computing relative efficiency for n = 328\n",
      "Computing relative efficiency for n = 368\n",
      "Computing relative efficiency for n = 409\n",
      "Computing relative efficiency for n = 450\n",
      "Computing relative efficiency for n = 491\n",
      "Computing relative efficiency for n = 532\n",
      "Computing relative efficiency for n = 572\n",
      "Computing relative efficiency for n = 613\n",
      "Computing relative efficiency for n = 654\n",
      "Computing relative efficiency for n = 695\n",
      "Computing relative efficiency for n = 735\n",
      "Computing relative efficiency for n = 776\n",
      "Computing relative efficiency for n = 817\n",
      "Computing relative efficiency for n = 858\n",
      "Computing relative efficiency for n = 899\n",
      "Computing relative efficiency for n = 939\n",
      "Computing relative efficiency for n = 980\n",
      "Computing relative efficiency for n = 1021\n"
     ]
    },
    {
     "name": "stderr",
     "output_type": "stream",
     "text": [
      "cmc.py:66: RuntimeWarning: divide by zero encountered in log\n",
      "  self.kappa * mu) + epsilon ) - np.log(np.mean((self.muHatZbars[:,0] - mu) >\n"
     ]
    },
    {
     "name": "stdout",
     "output_type": "stream",
     "text": [
      "Computing relative efficiency for n = 1062\n",
      "Computing relative efficiency for n = 1102\n",
      "Computing relative efficiency for n = 1143\n",
      "Computing relative efficiency for n = 1184\n",
      "Computing relative efficiency for n = 1225\n",
      "Computing relative efficiency for n = 1266\n",
      "Computing relative efficiency for n = 1306\n",
      "Computing relative efficiency for n = 1347\n",
      "Computing relative efficiency for n = 1388\n",
      "Computing relative efficiency for n = 1429\n",
      "Computing relative efficiency for n = 1469\n",
      "Computing relative efficiency for n = 1510\n",
      "Computing relative efficiency for n = 1551\n",
      "Computing relative efficiency for n = 1592\n",
      "Computing relative efficiency for n = 1633\n",
      "Computing relative efficiency for n = 1673\n",
      "Computing relative efficiency for n = 1714\n",
      "Computing relative efficiency for n = 1755\n",
      "Computing relative efficiency for n = 1796\n",
      "Computing relative efficiency for n = 1836\n",
      "Computing relative efficiency for n = 1877\n",
      "Computing relative efficiency for n = 1918\n",
      "Computing relative efficiency for n = 1959\n",
      "Computing relative efficiency for n = 2000\n"
     ]
    },
    {
     "ename": "NameError",
     "evalue": "name 'pd' is not defined",
     "output_type": "error",
     "traceback": [
      "\u001b[0;31m---------------------------------------------------------------------------\u001b[0m",
      "\u001b[0;31mNameError\u001b[0m                                 Traceback (most recent call last)",
      "\u001b[0;32m<ipython-input-3-244b91a352d2>\u001b[0m in \u001b[0;36m<module>\u001b[0;34m()\u001b[0m\n\u001b[1;32m      1\u001b[0m \u001b[0mn\u001b[0m\u001b[0;34m,\u001b[0m \u001b[0mcurveMat\u001b[0m \u001b[0;34m=\u001b[0m \u001b[0mcompRelEffCurve\u001b[0m\u001b[0;34m(\u001b[0m\u001b[0;34m)\u001b[0m\u001b[0;34m\u001b[0m\u001b[0m\n\u001b[1;32m      2\u001b[0m \u001b[0mcurveMatMa\u001b[0m \u001b[0;34m=\u001b[0m \u001b[0mnp\u001b[0m\u001b[0;34m.\u001b[0m\u001b[0mma\u001b[0m\u001b[0;34m.\u001b[0m\u001b[0marray\u001b[0m\u001b[0;34m(\u001b[0m\u001b[0mcurveMat\u001b[0m\u001b[0;34m,\u001b[0m \u001b[0mmask\u001b[0m \u001b[0;34m=\u001b[0m \u001b[0mnp\u001b[0m\u001b[0;34m.\u001b[0m\u001b[0mma\u001b[0m\u001b[0;34m.\u001b[0m\u001b[0mmask_or\u001b[0m\u001b[0;34m(\u001b[0m\u001b[0mcurveMat\u001b[0m \u001b[0;34m==\u001b[0m \u001b[0mnp\u001b[0m\u001b[0;34m.\u001b[0m\u001b[0minf\u001b[0m\u001b[0;34m,\u001b[0m \u001b[0mcurveMat\u001b[0m \u001b[0;34m==\u001b[0m \u001b[0;36m0\u001b[0m\u001b[0;34m)\u001b[0m\u001b[0;34m)\u001b[0m\u001b[0;34m\u001b[0m\u001b[0m\n\u001b[0;32m----> 3\u001b[0;31m \u001b[0mcurveDf\u001b[0m \u001b[0;34m=\u001b[0m \u001b[0mpd\u001b[0m\u001b[0;34m.\u001b[0m\u001b[0mDataFrame\u001b[0m\u001b[0;34m(\u001b[0m\u001b[0mcurveMatMa\u001b[0m\u001b[0;34m,\u001b[0m \u001b[0mcolumns\u001b[0m\u001b[0;34m=\u001b[0m\u001b[0mn\u001b[0m\u001b[0;34m)\u001b[0m\u001b[0;34m\u001b[0m\u001b[0m\n\u001b[0m\u001b[1;32m      4\u001b[0m \u001b[0mcurveMelt\u001b[0m \u001b[0;34m=\u001b[0m \u001b[0mcurveDf\u001b[0m\u001b[0;34m.\u001b[0m\u001b[0mmelt\u001b[0m\u001b[0;34m(\u001b[0m\u001b[0;34m)\u001b[0m\u001b[0;34m\u001b[0m\u001b[0m\n\u001b[1;32m      5\u001b[0m \u001b[0mcurveMelt\u001b[0m \u001b[0;34m=\u001b[0m \u001b[0mcurveMelt\u001b[0m\u001b[0;34m.\u001b[0m\u001b[0mloc\u001b[0m\u001b[0;34m[\u001b[0m\u001b[0;34m~\u001b[0m\u001b[0mnp\u001b[0m\u001b[0;34m.\u001b[0m\u001b[0misnan\u001b[0m\u001b[0;34m(\u001b[0m\u001b[0mcurveMelt\u001b[0m\u001b[0;34m.\u001b[0m\u001b[0mvalue\u001b[0m\u001b[0;34m)\u001b[0m\u001b[0;34m,\u001b[0m \u001b[0;34m:\u001b[0m\u001b[0;34m]\u001b[0m\u001b[0;34m\u001b[0m\u001b[0m\n",
      "\u001b[0;31mNameError\u001b[0m: name 'pd' is not defined"
     ]
    }
   ],
   "source": [
    "n, curveMat = compRelEffCurve()\n",
    "curveMatMa = np.ma.array(curveMat, mask = np.ma.mask_or(curveMat == np.inf, curveMat == 0))\n",
    "curveDf = pd.DataFrame(curveMatMa, columns=n)\n",
    "curveMelt = curveDf.melt()\n",
    "curveMelt = curveMelt.loc[~np.isnan(curveMelt.value), :]\n",
    "smModel = sm.ols(formula=\"value ~ variable\", data=curveMelt).fit()"
   ]
  },
  {
   "cell_type": "code",
   "execution_count": 270,
   "metadata": {},
   "outputs": [
    {
     "data": {
      "image/png": "[encoded data removed]",
      "text/plain": [
       "<Figure size 1440x360 with 1 Axes>"
      ]
     },
     "metadata": {
      "needs_background": "light"
     },
     "output_type": "display_data"
    }
   ],
   "source": [
    "fig, ax = plt.subplots()\n",
    "fig.set_size_inches([20,5])\n",
    "ax.scatter(curveMelt.variable, curveMelt.value, alpha = .5)\n",
    "ax.set_xlabel(\"n\")\n",
    "ax.set_ylabel(\"log( Probability Ratio )\")\n",
    "ax.plot(curveMelt.variable, smModel.fittedvalues)\n",
    "fig.savefig(\"./ProbabilityRatio.pdf\")"
   ]
  },
  {
   "cell_type": "code",
   "execution_count": 4,
   "metadata": {},
   "outputs": [],
   "source": [
    "from cmc import *"
   ]
  },
  {
   "cell_type": "code",
   "execution_count": 2,
   "metadata": {},
   "outputs": [],
   "source": [
    "from relativeEfficiencyLib import *"
   ]
  },
  {
   "cell_type": "code",
   "execution_count": 4,
   "metadata": {},
   "outputs": [
    {
     "data": {
      "text/plain": [
       "[1, 2, 3, 4]"
      ]
     },
     "execution_count": 4,
     "metadata": {},
     "output_type": "execute_result"
    }
   ],
   "source": [
    "range(1, 5)"
   ]
  },
  {
   "cell_type": "code",
   "execution_count": 5,
   "metadata": {},
   "outputs": [
    {
     "data": {
      "text/plain": [
       "[array([1. , 1.2, 1.4, 1.6, 1.8, 2. , 2.2, 2.4, 2.6, 2.8]),\n",
       " array([2. , 2.2, 2.4, 2.6, 2.8, 3. , 3.2, 3.4, 3.6, 3.8]),\n",
       " array([3. , 3.2, 3.4, 3.6, 3.8, 4. , 4.2, 4.4, 4.6, 4.8]),\n",
       " array([4. , 4.2, 4.4, 4.6, 4.8, 5. , 5.2, 5.4, 5.6, 5.8])]"
      ]
     },
     "execution_count": 5,
     "metadata": {},
     "output_type": "execute_result"
    }
   ],
   "source": [
    "[np.linspace( e, e + 2, 10, endpoint=False) for e in range(1, 5)]"
   ]
  },
  {
   "cell_type": "code",
   "execution_count": 6,
   "metadata": {},
   "outputs": [],
   "source": [
    "ALPHA = None"
   ]
  },
  {
   "cell_type": "code",
   "execution_count": 9,
   "metadata": {},
   "outputs": [
    {
     "name": "stdout",
     "output_type": "stream",
     "text": [
      "2\n"
     ]
    }
   ],
   "source": [
    "if ALPHA:\n",
    "    print(2)"
   ]
  },
  {
   "cell_type": "code",
   "execution_count": 8,
   "metadata": {},
   "outputs": [],
   "source": [
    "ALPHA = [np.linspace( e, e + 2, 10, endpoint=False) for e in range(1, 5)]"
   ]
  },
  {
   "cell_type": "code",
   "execution_count": null,
   "metadata": {},
   "outputs": [],
   "source": []
  }
 ],
 "metadata": {
  "kernelspec": {
   "display_name": "Python 2",
   "language": "python",
   "name": "python2"
  },
  "language_info": {
   "codemirror_mode": {
    "name": "ipython",
    "version": 2
   },
   "file_extension": ".py",
   "mimetype": "text/x-python",
   "name": "python",
   "nbconvert_exporter": "python",
   "pygments_lexer": "ipython2",
   "version": "2.7.15"
  }
 },
 "nbformat": 4,
 "nbformat_minor": 2
}
